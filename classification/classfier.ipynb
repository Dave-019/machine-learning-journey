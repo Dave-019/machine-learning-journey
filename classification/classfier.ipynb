{
 "cells": [
  {
   "cell_type": "code",
   "execution_count": 3,
   "metadata": {},
   "outputs": [
    {
     "name": "stdout",
     "output_type": "stream",
     "text": [
      "<class 'pandas.core.frame.DataFrame'>\n",
      "RangeIndex: 2448 entries, 0 to 2447\n",
      "Columns: 385 entries, o to zucchini\n",
      "dtypes: int64(384), object(1)\n",
      "memory usage: 7.2+ MB\n"
     ]
    }
   ],
   "source": [
    "import pandas as pd\n",
    "import matplotlib.pyplot as plt\n",
    "import matplotlib as mpl\n",
    "import numpy as np\n",
    "from imblearn.over_sampling import SMOTE\n",
    "\n",
    "\n",
    "df  = pd.read_csv('cuisines.csv')\n",
    "df.info()"
   ]
  },
  {
   "cell_type": "code",
   "execution_count": 4,
   "metadata": {},
   "outputs": [
    {
     "name": "stdout",
     "output_type": "stream",
     "text": [
      "thai df: (289, 385)\n",
      "japanese df: (320, 385)\n",
      "chinese df: (442, 385)\n",
      "indian df: (598, 385)\n",
      "korean df: (799, 385)\n"
     ]
    }
   ],
   "source": [
    "thai_df = df[(df.cuisine == \"thai\")]\n",
    "japanese_df = df[(df.cuisine == \"japanese\")]\n",
    "chinese_df = df[(df.cuisine == \"chinese\")]\n",
    "indian_df = df[(df.cuisine == \"indian\")]\n",
    "korean_df = df[(df.cuisine == \"korean\")]\n",
    "\n",
    "print(f'thai df: {thai_df.shape}')\n",
    "print(f'japanese df: {japanese_df.shape}')\n",
    "print(f'chinese df: {chinese_df.shape}')\n",
    "print(f'indian df: {indian_df.shape}')\n",
    "print(f'korean df: {korean_df.shape}')"
   ]
  }
 ],
 "metadata": {
  "kernelspec": {
   "display_name": "Python 3",
   "language": "python",
   "name": "python3"
  },
  "language_info": {
   "codemirror_mode": {
    "name": "ipython",
    "version": 3
   },
   "file_extension": ".py",
   "mimetype": "text/x-python",
   "name": "python",
   "nbconvert_exporter": "python",
   "pygments_lexer": "ipython3",
   "version": "3.12.6"
  }
 },
 "nbformat": 4,
 "nbformat_minor": 2
}
