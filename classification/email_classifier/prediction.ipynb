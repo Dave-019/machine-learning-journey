{
 "cells": [
  {
   "cell_type": "code",
   "execution_count": 18,
   "metadata": {},
   "outputs": [
    {
     "name": "stdout",
     "output_type": "stream",
     "text": [
      "Model and vectorizer loaded successfully!\n",
      "The email is classified as: Spam\n"
     ]
    }
   ],
   "source": [
    "import pickle\n",
    "with open('spam_classifier_model.pkl', 'rb') as file:\n",
    "    loaded_model = pickle.load(file)\n",
    "\n",
    "with open('tfidf_vectorizer.pkl', 'rb') as file:\n",
    "    loaded_vectorizer = pickle.load(file)\n",
    "\n",
    "print(\"Model and vectorizer loaded successfully!\")\n",
    "\n",
    "\n",
    "new_email = [\"Sign up now!\"] \n",
    "new_email_vec = loaded_vectorizer.transform(new_email)\n",
    "prediction = loaded_model.predict(new_email_vec)\n",
    "result = \"Spam\" if prediction[0] == 1 else \"not spam\"\n",
    "print(f\"The email is classified as: {result}\")"
   ]
  }
 ],
 "metadata": {
  "kernelspec": {
   "display_name": "Python 3",
   "language": "python",
   "name": "python3"
  },
  "language_info": {
   "codemirror_mode": {
    "name": "ipython",
    "version": 3
   },
   "file_extension": ".py",
   "mimetype": "text/x-python",
   "name": "python",
   "nbconvert_exporter": "python",
   "pygments_lexer": "ipython3",
   "version": "3.12.6"
  }
 },
 "nbformat": 4,
 "nbformat_minor": 2
}
