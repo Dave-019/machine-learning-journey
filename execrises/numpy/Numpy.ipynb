{
 "cells": [
  {
   "cell_type": "markdown",
   "metadata": {},
   "source": [
    "Creating a vector"
   ]
  },
  {
   "cell_type": "code",
   "execution_count": 5,
   "metadata": {},
   "outputs": [],
   "source": [
    "#One dimensional array\n",
    "import numpy as np\n",
    "\n",
    "vector_row = np.array([1,2,4])"
   ]
  },
  {
   "cell_type": "markdown",
   "metadata": {},
   "source": [
    "creating a matrix"
   ]
  },
  {
   "cell_type": "code",
   "execution_count": 10,
   "metadata": {},
   "outputs": [
    {
     "name": "stdout",
     "output_type": "stream",
     "text": [
      "[[0 3]\n",
      " [1 0]\n",
      " [0 6]]\n"
     ]
    }
   ],
   "source": [
    "#multidimensional array\n",
    "import numpy as np\n",
    "\n",
    "matrix = np.array([\n",
    "    [0, 3],\n",
    "    [1, 0],\n",
    "    [0, 6]\n",
    "])\n",
    "print(matrix)\n"
   ]
  },
  {
   "cell_type": "markdown",
   "metadata": {},
   "source": [
    "creating  a sparse matrix"
   ]
  },
  {
   "cell_type": "code",
   "execution_count": 14,
   "metadata": {},
   "outputs": [
    {
     "name": "stdout",
     "output_type": "stream",
     "text": [
      "<Compressed Sparse Row sparse matrix of dtype 'int64'\n",
      "\twith 3 stored elements and shape (3, 2)>\n",
      "  Coords\tValues\n",
      "  (0, 1)\t3\n",
      "  (1, 0)\t1\n",
      "  (2, 1)\t6\n"
     ]
    }
   ],
   "source": [
    "import numpy as np\n",
    "from scipy import sparse\n",
    "\n",
    "\n",
    "matrix = np.array([\n",
    "    [0, 3],\n",
    "    [1, 0],\n",
    "    [0, 6]\n",
    "])\n",
    "\n",
    "matix_sparse =sparse.csr_matrix(matrix)\n",
    "print(matix_sparse)"
   ]
  },
  {
   "cell_type": "markdown",
   "metadata": {},
   "source": [
    "selecting/accesing elements\n"
   ]
  },
  {
   "cell_type": "code",
   "execution_count": 25,
   "metadata": {},
   "outputs": [
    {
     "name": "stdout",
     "output_type": "stream",
     "text": [
      "4\n",
      "0\n"
     ]
    },
    {
     "data": {
      "text/plain": [
       "(3, 2)"
      ]
     },
     "execution_count": 25,
     "metadata": {},
     "output_type": "execute_result"
    }
   ],
   "source": [
    "import numpy as np \n",
    "\n",
    "matrix = np.array([\n",
    "    [0, 3],\n",
    "    [1, 0],\n",
    "    [0, 6]\n",
    "])\n",
    "vector = np.array([1,2,4])\n",
    "\n",
    "print(vector[2])\n",
    "print(matrix[1,1])\n",
    "matrix.shape\n"
   ]
  },
  {
   "cell_type": "markdown",
   "metadata": {},
   "source": [
    "operations on martix"
   ]
  },
  {
   "cell_type": "code",
   "execution_count": 27,
   "metadata": {},
   "outputs": [
    {
     "name": "stdout",
     "output_type": "stream",
     "text": [
      "[[100 103]\n",
      " [101 100]\n",
      " [100 106]]\n",
      "[[  0 300]\n",
      " [100   0]\n",
      " [  0 600]]\n"
     ]
    }
   ],
   "source": [
    "import numpy as np \n",
    "\n",
    "matrix = np.array([\n",
    "    [0, 3],\n",
    "    [1, 0],\n",
    "    [0, 6]\n",
    "])\n",
    "#creating function to add 100\n",
    "\n",
    "add_100 = lambda i: i + 100\n",
    "\n",
    "#vectorized function\n",
    "vec_add_100 = np.vectorize(add_100)\n",
    "\n",
    "vec_add_100(matrix)\n",
    "\n",
    "print(vec_add_100(matrix))\n"
   ]
  },
  {
   "cell_type": "markdown",
   "metadata": {},
   "source": [
    "Average, Variance, and Standard Deviation"
   ]
  },
  {
   "cell_type": "code",
   "execution_count": 3,
   "metadata": {},
   "outputs": [
    {
     "name": "stdout",
     "output_type": "stream",
     "text": [
      "1.6666666666666667\n",
      "4.888888888888888\n"
     ]
    }
   ],
   "source": [
    "import numpy as np \n",
    "\n",
    "matrix = np.array([\n",
    "    [0, 3],\n",
    "    [1, 0],\n",
    "    [0, 6]\n",
    "])\n",
    "#average \n",
    "print(np.mean(matrix))\n",
    "#variance\n",
    "print(np.var(matrix))\n",
    "#std\n",
    "print(np.std(matrix))"
   ]
  }
 ],
 "metadata": {
  "kernelspec": {
   "display_name": "Python 3",
   "language": "python",
   "name": "python3"
  },
  "language_info": {
   "codemirror_mode": {
    "name": "ipython",
    "version": 3
   },
   "file_extension": ".py",
   "mimetype": "text/x-python",
   "name": "python",
   "nbconvert_exporter": "python",
   "pygments_lexer": "ipython3",
   "version": "3.12.6"
  }
 },
 "nbformat": 4,
 "nbformat_minor": 2
}
