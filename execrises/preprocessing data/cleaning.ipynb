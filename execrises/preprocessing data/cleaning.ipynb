{
 "cells": [
  {
   "cell_type": "code",
   "execution_count": 51,
   "metadata": {},
   "outputs": [],
   "source": [
    "#importing libs\n",
    "import pandas as pd\n",
    "import numpy as np\n",
    "import matplotlib.pyplot as plt\n",
    "import seaborn as sns"
   ]
  },
  {
   "cell_type": "code",
   "execution_count": 52,
   "metadata": {},
   "outputs": [
    {
     "name": "stderr",
     "output_type": "stream",
     "text": [
      "C:\\Users\\david\\AppData\\Local\\Temp\\ipykernel_13704\\2457098851.py:2: DtypeWarning: Columns (76) have mixed types. Specify dtype option on import or set low_memory=False.\n",
      "  df = pd.read_csv('fifa21 raw data v2.csv')\n"
     ]
    },
    {
     "data": {
      "text/html": [
       "<div>\n",
       "<style scoped>\n",
       "    .dataframe tbody tr th:only-of-type {\n",
       "        vertical-align: middle;\n",
       "    }\n",
       "\n",
       "    .dataframe tbody tr th {\n",
       "        vertical-align: top;\n",
       "    }\n",
       "\n",
       "    .dataframe thead th {\n",
       "        text-align: right;\n",
       "    }\n",
       "</style>\n",
       "<table border=\"1\" class=\"dataframe\">\n",
       "  <thead>\n",
       "    <tr style=\"text-align: right;\">\n",
       "      <th></th>\n",
       "      <th>ID</th>\n",
       "      <th>Name</th>\n",
       "      <th>LongName</th>\n",
       "      <th>photoUrl</th>\n",
       "      <th>playerUrl</th>\n",
       "      <th>Nationality</th>\n",
       "      <th>Age</th>\n",
       "      <th>↓OVA</th>\n",
       "      <th>POT</th>\n",
       "      <th>Club</th>\n",
       "      <th>...</th>\n",
       "      <th>A/W</th>\n",
       "      <th>D/W</th>\n",
       "      <th>IR</th>\n",
       "      <th>PAC</th>\n",
       "      <th>SHO</th>\n",
       "      <th>PAS</th>\n",
       "      <th>DRI</th>\n",
       "      <th>DEF</th>\n",
       "      <th>PHY</th>\n",
       "      <th>Hits</th>\n",
       "    </tr>\n",
       "  </thead>\n",
       "  <tbody>\n",
       "    <tr>\n",
       "      <th>0</th>\n",
       "      <td>158023</td>\n",
       "      <td>L. Messi</td>\n",
       "      <td>Lionel Messi</td>\n",
       "      <td>https://cdn.sofifa.com/players/158/023/21_60.png</td>\n",
       "      <td>http://sofifa.com/player/158023/lionel-messi/2...</td>\n",
       "      <td>Argentina</td>\n",
       "      <td>33</td>\n",
       "      <td>93</td>\n",
       "      <td>93</td>\n",
       "      <td>\\n\\n\\n\\nFC Barcelona</td>\n",
       "      <td>...</td>\n",
       "      <td>Medium</td>\n",
       "      <td>Low</td>\n",
       "      <td>5 ★</td>\n",
       "      <td>85</td>\n",
       "      <td>92</td>\n",
       "      <td>91</td>\n",
       "      <td>95</td>\n",
       "      <td>38</td>\n",
       "      <td>65</td>\n",
       "      <td>771</td>\n",
       "    </tr>\n",
       "    <tr>\n",
       "      <th>1</th>\n",
       "      <td>20801</td>\n",
       "      <td>Cristiano Ronaldo</td>\n",
       "      <td>C. Ronaldo dos Santos Aveiro</td>\n",
       "      <td>https://cdn.sofifa.com/players/020/801/21_60.png</td>\n",
       "      <td>http://sofifa.com/player/20801/c-ronaldo-dos-s...</td>\n",
       "      <td>Portugal</td>\n",
       "      <td>35</td>\n",
       "      <td>92</td>\n",
       "      <td>92</td>\n",
       "      <td>\\n\\n\\n\\nJuventus</td>\n",
       "      <td>...</td>\n",
       "      <td>High</td>\n",
       "      <td>Low</td>\n",
       "      <td>5 ★</td>\n",
       "      <td>89</td>\n",
       "      <td>93</td>\n",
       "      <td>81</td>\n",
       "      <td>89</td>\n",
       "      <td>35</td>\n",
       "      <td>77</td>\n",
       "      <td>562</td>\n",
       "    </tr>\n",
       "    <tr>\n",
       "      <th>2</th>\n",
       "      <td>200389</td>\n",
       "      <td>J. Oblak</td>\n",
       "      <td>Jan Oblak</td>\n",
       "      <td>https://cdn.sofifa.com/players/200/389/21_60.png</td>\n",
       "      <td>http://sofifa.com/player/200389/jan-oblak/210006/</td>\n",
       "      <td>Slovenia</td>\n",
       "      <td>27</td>\n",
       "      <td>91</td>\n",
       "      <td>93</td>\n",
       "      <td>\\n\\n\\n\\nAtlético Madrid</td>\n",
       "      <td>...</td>\n",
       "      <td>Medium</td>\n",
       "      <td>Medium</td>\n",
       "      <td>3 ★</td>\n",
       "      <td>87</td>\n",
       "      <td>92</td>\n",
       "      <td>78</td>\n",
       "      <td>90</td>\n",
       "      <td>52</td>\n",
       "      <td>90</td>\n",
       "      <td>150</td>\n",
       "    </tr>\n",
       "    <tr>\n",
       "      <th>3</th>\n",
       "      <td>192985</td>\n",
       "      <td>K. De Bruyne</td>\n",
       "      <td>Kevin De Bruyne</td>\n",
       "      <td>https://cdn.sofifa.com/players/192/985/21_60.png</td>\n",
       "      <td>http://sofifa.com/player/192985/kevin-de-bruyn...</td>\n",
       "      <td>Belgium</td>\n",
       "      <td>29</td>\n",
       "      <td>91</td>\n",
       "      <td>91</td>\n",
       "      <td>\\n\\n\\n\\nManchester City</td>\n",
       "      <td>...</td>\n",
       "      <td>High</td>\n",
       "      <td>High</td>\n",
       "      <td>4 ★</td>\n",
       "      <td>76</td>\n",
       "      <td>86</td>\n",
       "      <td>93</td>\n",
       "      <td>88</td>\n",
       "      <td>64</td>\n",
       "      <td>78</td>\n",
       "      <td>207</td>\n",
       "    </tr>\n",
       "    <tr>\n",
       "      <th>4</th>\n",
       "      <td>190871</td>\n",
       "      <td>Neymar Jr</td>\n",
       "      <td>Neymar da Silva Santos Jr.</td>\n",
       "      <td>https://cdn.sofifa.com/players/190/871/21_60.png</td>\n",
       "      <td>http://sofifa.com/player/190871/neymar-da-silv...</td>\n",
       "      <td>Brazil</td>\n",
       "      <td>28</td>\n",
       "      <td>91</td>\n",
       "      <td>91</td>\n",
       "      <td>\\n\\n\\n\\nParis Saint-Germain</td>\n",
       "      <td>...</td>\n",
       "      <td>High</td>\n",
       "      <td>Medium</td>\n",
       "      <td>5 ★</td>\n",
       "      <td>91</td>\n",
       "      <td>85</td>\n",
       "      <td>86</td>\n",
       "      <td>94</td>\n",
       "      <td>36</td>\n",
       "      <td>59</td>\n",
       "      <td>595</td>\n",
       "    </tr>\n",
       "  </tbody>\n",
       "</table>\n",
       "<p>5 rows × 77 columns</p>\n",
       "</div>"
      ],
      "text/plain": [
       "       ID               Name                      LongName  \\\n",
       "0  158023           L. Messi                  Lionel Messi   \n",
       "1   20801  Cristiano Ronaldo  C. Ronaldo dos Santos Aveiro   \n",
       "2  200389           J. Oblak                     Jan Oblak   \n",
       "3  192985       K. De Bruyne               Kevin De Bruyne   \n",
       "4  190871          Neymar Jr    Neymar da Silva Santos Jr.   \n",
       "\n",
       "                                           photoUrl  \\\n",
       "0  https://cdn.sofifa.com/players/158/023/21_60.png   \n",
       "1  https://cdn.sofifa.com/players/020/801/21_60.png   \n",
       "2  https://cdn.sofifa.com/players/200/389/21_60.png   \n",
       "3  https://cdn.sofifa.com/players/192/985/21_60.png   \n",
       "4  https://cdn.sofifa.com/players/190/871/21_60.png   \n",
       "\n",
       "                                           playerUrl Nationality  Age  ↓OVA  \\\n",
       "0  http://sofifa.com/player/158023/lionel-messi/2...   Argentina   33    93   \n",
       "1  http://sofifa.com/player/20801/c-ronaldo-dos-s...    Portugal   35    92   \n",
       "2  http://sofifa.com/player/200389/jan-oblak/210006/    Slovenia   27    91   \n",
       "3  http://sofifa.com/player/192985/kevin-de-bruyn...     Belgium   29    91   \n",
       "4  http://sofifa.com/player/190871/neymar-da-silv...      Brazil   28    91   \n",
       "\n",
       "   POT                         Club  ...     A/W     D/W   IR PAC SHO  PAS  \\\n",
       "0   93         \\n\\n\\n\\nFC Barcelona  ...  Medium     Low  5 ★  85  92   91   \n",
       "1   92             \\n\\n\\n\\nJuventus  ...    High     Low  5 ★  89  93   81   \n",
       "2   93      \\n\\n\\n\\nAtlético Madrid  ...  Medium  Medium  3 ★  87  92   78   \n",
       "3   91      \\n\\n\\n\\nManchester City  ...    High    High  4 ★  76  86   93   \n",
       "4   91  \\n\\n\\n\\nParis Saint-Germain  ...    High  Medium  5 ★  91  85   86   \n",
       "\n",
       "  DRI DEF PHY Hits  \n",
       "0  95  38  65  771  \n",
       "1  89  35  77  562  \n",
       "2  90  52  90  150  \n",
       "3  88  64  78  207  \n",
       "4  94  36  59  595  \n",
       "\n",
       "[5 rows x 77 columns]"
      ]
     },
     "execution_count": 52,
     "metadata": {},
     "output_type": "execute_result"
    }
   ],
   "source": [
    "#loading data\n",
    "df = pd.read_csv('fifa21 raw data v2.csv')\n",
    "df.head()"
   ]
  },
  {
   "cell_type": "code",
   "execution_count": 53,
   "metadata": {},
   "outputs": [
    {
     "data": {
      "text/plain": [
       "(18979, 77)"
      ]
     },
     "execution_count": 53,
     "metadata": {},
     "output_type": "execute_result"
    }
   ],
   "source": [
    "df.shape"
   ]
  },
  {
   "cell_type": "code",
   "execution_count": 54,
   "metadata": {},
   "outputs": [
    {
     "data": {
      "text/plain": [
       "ID              0\n",
       "Name            0\n",
       "LongName        0\n",
       "photoUrl        0\n",
       "playerUrl       0\n",
       "             ... \n",
       "PAS             0\n",
       "DRI             0\n",
       "DEF             0\n",
       "PHY             0\n",
       "Hits         2595\n",
       "Length: 77, dtype: int64"
      ]
     },
     "execution_count": 54,
     "metadata": {},
     "output_type": "execute_result"
    }
   ],
   "source": [
    "df.isnull().sum()"
   ]
  },
  {
   "cell_type": "code",
   "execution_count": 55,
   "metadata": {},
   "outputs": [
    {
     "data": {
      "text/plain": [
       "<seaborn.axisgrid.FacetGrid at 0x1b41762e900>"
      ]
     },
     "execution_count": 55,
     "metadata": {},
     "output_type": "execute_result"
    },
    {
     "data": {
      "image/png": "[encoded data removed]",
      "text/plain": [
       "<Figure size 800x800 with 1 Axes>"
      ]
     },
     "metadata": {},
     "output_type": "display_data"
    },
    {
     "data": {
      "image/png": "[encoded data removed]",
      "text/plain": [
       "<Figure size 500x500 with 1 Axes>"
      ]
     },
     "metadata": {},
     "output_type": "display_data"
    }
   ],
   "source": [
    "#analysis distribution of hits\n",
    "fig,ax = plt.subplots(figsize = (8,8))\n",
    "sns.displot(df.DEF)"
   ]
  },
  {
   "cell_type": "code",
   "execution_count": 63,
   "metadata": {},
   "outputs": [
    {
     "name": "stderr",
     "output_type": "stream",
     "text": [
      "C:\\Users\\david\\AppData\\Local\\Temp\\ipykernel_13704\\2948919932.py:4: FutureWarning: A value is trying to be set on a copy of a DataFrame or Series through chained assignment using an inplace method.\n",
      "The behavior will change in pandas 3.0. This inplace method will never work because the intermediate object on which we are setting values always behaves as a copy.\n",
      "\n",
      "For example, when doing 'df[col].method(value, inplace=True)', try using 'df.method({col: value}, inplace=True)' or df[col] = df[col].method(value) instead, to perform the operation inplace on the original object.\n",
      "\n",
      "\n",
      "  df[\"Hits\"].fillna(df[\"Hits\"].median(), inplace=True)\n"
     ]
    },
    {
     "data": {
      "text/plain": [
       "<seaborn.axisgrid.FacetGrid at 0x1b4192b3110>"
      ]
     },
     "execution_count": 63,
     "metadata": {},
     "output_type": "execute_result"
    },
    {
     "data": {
      "image/png": "[encoded data removed]",
      "text/plain": [
       "<Figure size 800x800 with 1 Axes>"
      ]
     },
     "metadata": {},
     "output_type": "display_data"
    },
    {
     "data": {
      "image/png": "[encoded data removed]",
      "text/plain": [
       "<Figure size 500x500 with 1 Axes>"
      ]
     },
     "metadata": {},
     "output_type": "display_data"
    }
   ],
   "source": [
    "df[\"Hits\"] = pd.to_numeric(df[\"Hits\"], errors=\"coerce\")\n",
    "\n",
    "\n",
    "df[\"Hits\"].fillna(df[\"Hits\"].median(), inplace=True)\n",
    "df.head(10)\n",
    "\n"
   ]
  }
 ],
 "metadata": {
  "kernelspec": {
   "display_name": "Python 3",
   "language": "python",
   "name": "python3"
  },
  "language_info": {
   "codemirror_mode": {
    "name": "ipython",
    "version": 3
   },
   "file_extension": ".py",
   "mimetype": "text/x-python",
   "name": "python",
   "nbconvert_exporter": "python",
   "pygments_lexer": "ipython3",
   "version": "3.12.6"
  }
 },
 "nbformat": 4,
 "nbformat_minor": 2
}
