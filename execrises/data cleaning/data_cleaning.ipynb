{
 "cells": [
  {
   "cell_type": "code",
   "execution_count": 335,
   "metadata": {},
   "outputs": [
    {
     "data": {
      "text/html": [
       "<div>\n",
       "<style scoped>\n",
       "    .dataframe tbody tr th:only-of-type {\n",
       "        vertical-align: middle;\n",
       "    }\n",
       "\n",
       "    .dataframe tbody tr th {\n",
       "        vertical-align: top;\n",
       "    }\n",
       "\n",
       "    .dataframe thead th {\n",
       "        text-align: right;\n",
       "    }\n",
       "</style>\n",
       "<table border=\"1\" class=\"dataframe\">\n",
       "  <thead>\n",
       "    <tr style=\"text-align: right;\">\n",
       "      <th></th>\n",
       "      <th>Name</th>\n",
       "      <th>Age</th>\n",
       "      <th>Email</th>\n",
       "      <th>Join_Date</th>\n",
       "      <th>Salary</th>\n",
       "      <th>Department</th>\n",
       "    </tr>\n",
       "  </thead>\n",
       "  <tbody>\n",
       "    <tr>\n",
       "      <th>0</th>\n",
       "      <td>John O'Connell</td>\n",
       "      <td>NaN</td>\n",
       "      <td>john_o'connell@email.com</td>\n",
       "      <td>2016-09-16</td>\n",
       "      <td>NaN</td>\n",
       "      <td>HR</td>\n",
       "    </tr>\n",
       "    <tr>\n",
       "      <th>1</th>\n",
       "      <td>Alice Davis</td>\n",
       "      <td>20.0</td>\n",
       "      <td>alice_davis@mail.net</td>\n",
       "      <td>2020-05-22</td>\n",
       "      <td>NaN</td>\n",
       "      <td>Marketing</td>\n",
       "    </tr>\n",
       "    <tr>\n",
       "      <th>2</th>\n",
       "      <td>Laura Brown</td>\n",
       "      <td>NaN</td>\n",
       "      <td>laura_brown@mail.net</td>\n",
       "      <td>2016-12-11</td>\n",
       "      <td>91867.0</td>\n",
       "      <td>HR</td>\n",
       "    </tr>\n",
       "    <tr>\n",
       "      <th>3</th>\n",
       "      <td>Sam Smith</td>\n",
       "      <td>21.0</td>\n",
       "      <td>sam_smith@email.com</td>\n",
       "      <td>28/06/2025</td>\n",
       "      <td>35874.0</td>\n",
       "      <td>Finance</td>\n",
       "    </tr>\n",
       "    <tr>\n",
       "      <th>4</th>\n",
       "      <td>Sarah Doe</td>\n",
       "      <td>NaN</td>\n",
       "      <td>sarah_doe@fake.com</td>\n",
       "      <td>2015-04-17</td>\n",
       "      <td>NaN</td>\n",
       "      <td>HR</td>\n",
       "    </tr>\n",
       "  </tbody>\n",
       "</table>\n",
       "</div>"
      ],
      "text/plain": [
       "             Name   Age                     Email   Join_Date   Salary  \\\n",
       "0  John O'Connell   NaN  john_o'connell@email.com  2016-09-16      NaN   \n",
       "1     Alice Davis  20.0      alice_davis@mail.net  2020-05-22      NaN   \n",
       "2     Laura Brown   NaN      laura_brown@mail.net  2016-12-11  91867.0   \n",
       "3       Sam Smith  21.0       sam_smith@email.com  28/06/2025  35874.0   \n",
       "4       Sarah Doe   NaN        sarah_doe@fake.com  2015-04-17      NaN   \n",
       "\n",
       "  Department  \n",
       "0         HR  \n",
       "1  Marketing  \n",
       "2         HR  \n",
       "3    Finance  \n",
       "4         HR  "
      ]
     },
     "execution_count": 335,
     "metadata": {},
     "output_type": "execute_result"
    }
   ],
   "source": [
    "import pandas as pd\n",
    "import numpy as np\n",
    "df = pd.read_csv(\"large_messy_data.csv\")\n",
    "\n",
    "df.head()\n"
   ]
  },
  {
   "cell_type": "code",
   "execution_count": 336,
   "metadata": {},
   "outputs": [
    {
     "name": "stdout",
     "output_type": "stream",
     "text": [
      "<class 'pandas.core.frame.DataFrame'>\n",
      "RangeIndex: 1000 entries, 0 to 999\n",
      "Data columns (total 6 columns):\n",
      " #   Column      Non-Null Count  Dtype  \n",
      "---  ------      --------------  -----  \n",
      " 0   Name        952 non-null    object \n",
      " 1   Age         505 non-null    float64\n",
      " 2   Email       1000 non-null   object \n",
      " 3   Join_Date   1000 non-null   object \n",
      " 4   Salary      331 non-null    float64\n",
      " 5   Department  878 non-null    object \n",
      "dtypes: float64(2), object(4)\n",
      "memory usage: 47.0+ KB\n"
     ]
    }
   ],
   "source": [
    "#info about data\n",
    "df.info()\n"
   ]
  },
  {
   "cell_type": "code",
   "execution_count": 337,
   "metadata": {},
   "outputs": [
    {
     "data": {
      "text/html": [
       "<div>\n",
       "<style scoped>\n",
       "    .dataframe tbody tr th:only-of-type {\n",
       "        vertical-align: middle;\n",
       "    }\n",
       "\n",
       "    .dataframe tbody tr th {\n",
       "        vertical-align: top;\n",
       "    }\n",
       "\n",
       "    .dataframe thead th {\n",
       "        text-align: right;\n",
       "    }\n",
       "</style>\n",
       "<table border=\"1\" class=\"dataframe\">\n",
       "  <thead>\n",
       "    <tr style=\"text-align: right;\">\n",
       "      <th></th>\n",
       "      <th>Name</th>\n",
       "      <th>Age</th>\n",
       "      <th>Email</th>\n",
       "      <th>Join_Date</th>\n",
       "      <th>Salary</th>\n",
       "      <th>Department</th>\n",
       "    </tr>\n",
       "  </thead>\n",
       "  <tbody>\n",
       "    <tr>\n",
       "      <th>count</th>\n",
       "      <td>952</td>\n",
       "      <td>505.000000</td>\n",
       "      <td>1000</td>\n",
       "      <td>1000</td>\n",
       "      <td>331.000000</td>\n",
       "      <td>878</td>\n",
       "    </tr>\n",
       "    <tr>\n",
       "      <th>unique</th>\n",
       "      <td>188</td>\n",
       "      <td>NaN</td>\n",
       "      <td>508</td>\n",
       "      <td>692</td>\n",
       "      <td>NaN</td>\n",
       "      <td>7</td>\n",
       "    </tr>\n",
       "    <tr>\n",
       "      <th>top</th>\n",
       "      <td>Sam White</td>\n",
       "      <td>NaN</td>\n",
       "      <td>invalid_email</td>\n",
       "      <td>2025-01-01</td>\n",
       "      <td>NaN</td>\n",
       "      <td>HR</td>\n",
       "    </tr>\n",
       "    <tr>\n",
       "      <th>freq</th>\n",
       "      <td>12</td>\n",
       "      <td>NaN</td>\n",
       "      <td>138</td>\n",
       "      <td>264</td>\n",
       "      <td>NaN</td>\n",
       "      <td>141</td>\n",
       "    </tr>\n",
       "    <tr>\n",
       "      <th>mean</th>\n",
       "      <td>NaN</td>\n",
       "      <td>29.778218</td>\n",
       "      <td>NaN</td>\n",
       "      <td>NaN</td>\n",
       "      <td>64930.305136</td>\n",
       "      <td>NaN</td>\n",
       "    </tr>\n",
       "    <tr>\n",
       "      <th>std</th>\n",
       "      <td>NaN</td>\n",
       "      <td>13.203322</td>\n",
       "      <td>NaN</td>\n",
       "      <td>NaN</td>\n",
       "      <td>20792.188829</td>\n",
       "      <td>NaN</td>\n",
       "    </tr>\n",
       "    <tr>\n",
       "      <th>min</th>\n",
       "      <td>NaN</td>\n",
       "      <td>20.000000</td>\n",
       "      <td>NaN</td>\n",
       "      <td>NaN</td>\n",
       "      <td>30075.000000</td>\n",
       "      <td>NaN</td>\n",
       "    </tr>\n",
       "    <tr>\n",
       "      <th>25%</th>\n",
       "      <td>NaN</td>\n",
       "      <td>20.000000</td>\n",
       "      <td>NaN</td>\n",
       "      <td>NaN</td>\n",
       "      <td>46288.000000</td>\n",
       "      <td>NaN</td>\n",
       "    </tr>\n",
       "    <tr>\n",
       "      <th>50%</th>\n",
       "      <td>NaN</td>\n",
       "      <td>20.000000</td>\n",
       "      <td>NaN</td>\n",
       "      <td>NaN</td>\n",
       "      <td>65522.000000</td>\n",
       "      <td>NaN</td>\n",
       "    </tr>\n",
       "    <tr>\n",
       "      <th>75%</th>\n",
       "      <td>NaN</td>\n",
       "      <td>41.000000</td>\n",
       "      <td>NaN</td>\n",
       "      <td>NaN</td>\n",
       "      <td>83004.000000</td>\n",
       "      <td>NaN</td>\n",
       "    </tr>\n",
       "    <tr>\n",
       "      <th>max</th>\n",
       "      <td>NaN</td>\n",
       "      <td>60.000000</td>\n",
       "      <td>NaN</td>\n",
       "      <td>NaN</td>\n",
       "      <td>99952.000000</td>\n",
       "      <td>NaN</td>\n",
       "    </tr>\n",
       "  </tbody>\n",
       "</table>\n",
       "</div>"
      ],
      "text/plain": [
       "             Name         Age          Email   Join_Date        Salary  \\\n",
       "count         952  505.000000           1000        1000    331.000000   \n",
       "unique        188         NaN            508         692           NaN   \n",
       "top     Sam White         NaN  invalid_email  2025-01-01           NaN   \n",
       "freq           12         NaN            138         264           NaN   \n",
       "mean          NaN   29.778218            NaN         NaN  64930.305136   \n",
       "std           NaN   13.203322            NaN         NaN  20792.188829   \n",
       "min           NaN   20.000000            NaN         NaN  30075.000000   \n",
       "25%           NaN   20.000000            NaN         NaN  46288.000000   \n",
       "50%           NaN   20.000000            NaN         NaN  65522.000000   \n",
       "75%           NaN   41.000000            NaN         NaN  83004.000000   \n",
       "max           NaN   60.000000            NaN         NaN  99952.000000   \n",
       "\n",
       "       Department  \n",
       "count         878  \n",
       "unique          7  \n",
       "top            HR  \n",
       "freq          141  \n",
       "mean          NaN  \n",
       "std           NaN  \n",
       "min           NaN  \n",
       "25%           NaN  \n",
       "50%           NaN  \n",
       "75%           NaN  \n",
       "max           NaN  "
      ]
     },
     "execution_count": 337,
     "metadata": {},
     "output_type": "execute_result"
    }
   ],
   "source": [
    "#description of the data\n",
    "df.describe(include=\"all\")"
   ]
  },
  {
   "cell_type": "code",
   "execution_count": 338,
   "metadata": {},
   "outputs": [
    {
     "data": {
      "text/plain": [
       "Name           48\n",
       "Age           495\n",
       "Email           0\n",
       "Join_Date       0\n",
       "Salary        669\n",
       "Department    122\n",
       "dtype: int64"
      ]
     },
     "execution_count": 338,
     "metadata": {},
     "output_type": "execute_result"
    }
   ],
   "source": [
    "#Handling missing values\n",
    "df.isnull().sum()"
   ]
  },
  {
   "cell_type": "code",
   "execution_count": 339,
   "metadata": {},
   "outputs": [
    {
     "name": "stdout",
     "output_type": "stream",
     "text": [
      "<class 'pandas.core.frame.DataFrame'>\n",
      "RangeIndex: 1000 entries, 0 to 999\n",
      "Data columns (total 6 columns):\n",
      " #   Column      Non-Null Count  Dtype  \n",
      "---  ------      --------------  -----  \n",
      " 0   Name        952 non-null    object \n",
      " 1   Age         505 non-null    float64\n",
      " 2   Email       1000 non-null   object \n",
      " 3   Join_Date   1000 non-null   object \n",
      " 4   Salary      331 non-null    float64\n",
      " 5   Department  878 non-null    object \n",
      "dtypes: float64(2), object(4)\n",
      "memory usage: 47.0+ KB\n"
     ]
    }
   ],
   "source": [
    "#droping rows with missing values\n",
    "\n",
    "df.info()"
   ]
  },
  {
   "cell_type": "code",
   "execution_count": 340,
   "metadata": {},
   "outputs": [],
   "source": [
    "#filling \n",
    "df['Age'] = pd.to_numeric(df['Age'], errors='coerce')\n",
    "\n",
    "df['Age'] = df['Age'].fillna(df['Age'].median())\n",
    "\n"
   ]
  },
  {
   "cell_type": "code",
   "execution_count": 341,
   "metadata": {},
   "outputs": [
    {
     "name": "stderr",
     "output_type": "stream",
     "text": [
      "C:\\Users\\david\\AppData\\Local\\Temp\\ipykernel_3636\\3147205420.py:1: UserWarning: Parsing dates in %Y-%m-%d format when dayfirst=True was specified. Pass `dayfirst=False` or specify a format to silence this warning.\n",
      "  df['Join_Date'] = pd.to_datetime(df['Join_Date'], errors='coerce', dayfirst=True, format=None)\n",
      "C:\\Users\\david\\AppData\\Local\\Temp\\ipykernel_3636\\3147205420.py:4: FutureWarning: A value is trying to be set on a copy of a DataFrame or Series through chained assignment using an inplace method.\n",
      "The behavior will change in pandas 3.0. This inplace method will never work because the intermediate object on which we are setting values always behaves as a copy.\n",
      "\n",
      "For example, when doing 'df[col].method(value, inplace=True)', try using 'df.method({col: value}, inplace=True)' or df[col] = df[col].method(value) instead, to perform the operation inplace on the original object.\n",
      "\n",
      "\n",
      "  df['Join_Date'].fillna(pd.Timestamp(\"2025-01-02\"), inplace=True)\n"
     ]
    }
   ],
   "source": [
    "\n",
    "df['Join_Date'] = pd.to_datetime(df['Join_Date'], errors='coerce', dayfirst=True, format=None)\n",
    "\n",
    "# Replace NaT with \"2025-01-01\"\n",
    "df['Join_Date'].fillna(pd.Timestamp(\"2025-01-02\"), inplace=True)\n"
   ]
  },
  {
   "cell_type": "code",
   "execution_count": 342,
   "metadata": {},
   "outputs": [],
   "source": [
    "#salary\n",
    "df['Salary'] =pd.to_numeric(df['Salary'], errors='coerce')\n",
    "df[\"Salary\"]= df[\"Salary\"].fillna(df[\"Salary\"].median())\n"
   ]
  },
  {
   "cell_type": "code",
   "execution_count": 343,
   "metadata": {},
   "outputs": [
    {
     "name": "stdout",
     "output_type": "stream",
     "text": [
      "                Name   Age                     Email  Join_Date   Salary  \\\n",
      "0     John O'Connell  20.0  john_o'connell@email.com 2016-09-16  65522.0   \n",
      "1        Alice Davis  20.0      alice_davis@mail.net 2020-05-22  65522.0   \n",
      "2        Laura Brown  20.0      laura_brown@mail.net 2016-12-11  91867.0   \n",
      "3          Sam Smith  21.0       sam_smith@email.com 2025-01-02  35874.0   \n",
      "4          Sarah Doe  20.0        sarah_doe@fake.com 2015-04-17  65522.0   \n",
      "..               ...   ...                       ...        ...      ...   \n",
      "994         Lisa Doe  54.0         lisa_doe@fake.com 2025-01-01  65522.0   \n",
      "996       Alex Green  40.0      alex_green@email.com 2025-06-06  65522.0   \n",
      "997  Emily O'Connell  20.0  emily_o'connell@mail.net 2022-04-21  65522.0   \n",
      "998          Tom Doe  20.0          tom_doe@mail.net 2025-01-01  94375.0   \n",
      "999     Emily Miller  20.0    emily_miller@email.com 2023-05-14  65522.0   \n",
      "\n",
      "    Department  \n",
      "0           HR  \n",
      "1    Marketing  \n",
      "2           HR  \n",
      "3      Finance  \n",
      "4           HR  \n",
      "..         ...  \n",
      "994         IT  \n",
      "996      Sales  \n",
      "997      Sales  \n",
      "998    Finance  \n",
      "999      Sales  \n",
      "\n",
      "[836 rows x 6 columns]\n"
     ]
    }
   ],
   "source": [
    "df_cleaned = df.dropna()\n",
    "\n",
    "print(df_cleaned)"
   ]
  },
  {
   "cell_type": "markdown",
   "metadata": {},
   "source": [
    "saving the df "
   ]
  },
  {
   "cell_type": "code",
   "execution_count": 344,
   "metadata": {},
   "outputs": [],
   "source": [
    "df.to_csv('cleaned_data.csv', index=False)"
   ]
  }
 ],
 "metadata": {
  "kernelspec": {
   "display_name": "Python 3",
   "language": "python",
   "name": "python3"
  },
  "language_info": {
   "codemirror_mode": {
    "name": "ipython",
    "version": 3
   },
   "file_extension": ".py",
   "mimetype": "text/x-python",
   "name": "python",
   "nbconvert_exporter": "python",
   "pygments_lexer": "ipython3",
   "version": "3.12.6"
  }
 },
 "nbformat": 4,
 "nbformat_minor": 2
}
